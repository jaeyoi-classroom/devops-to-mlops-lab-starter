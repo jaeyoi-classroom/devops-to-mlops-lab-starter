{
 "cells": [
  {
   "cell_type": "code",
   "execution_count": null,
   "metadata": {},
   "outputs": [],
   "source": [
    "%pip install evidently\n",
    "%pip install yfinance"
   ]
  },
  {
   "cell_type": "code",
   "execution_count": null,
   "metadata": {},
   "outputs": [],
   "source": [
    "from datetime import datetime, timedelta\n",
    "\n",
    "import pandas as pd\n",
    "import yfinance as yf\n",
    "from evidently.metric_preset import (\n",
    "    ClassificationPreset,\n",
    "    DataDriftPreset,\n",
    "    DataQualityPreset,\n",
    ")\n",
    "from evidently.report import Report\n",
    "from sklearn.ensemble import RandomForestClassifier\n",
    "from sklearn.model_selection import train_test_split"
   ]
  },
  {
   "cell_type": "code",
   "execution_count": null,
   "metadata": {},
   "outputs": [],
   "source": [
    "# 데이터 수집 및 전처리\n",
    "def get_kospi_data(days) -> pd.DataFrame:\n",
    "    end_date = datetime.now() - timedelta(days=1)\n",
    "    start_date = end_date - timedelta(days=days)\n",
    "    df = yf.download(\n",
    "        \"^KS11\",\n",
    "        start=start_date.strftime(\"%Y-%m-%d\"),\n",
    "        end=end_date.strftime(\"%Y-%m-%d\"),\n",
    "        group_by=\"ticker\",\n",
    "    )[\"^KS11\"]\n",
    "    df[\"Label\"] = df[\"Close\"].diff().apply(lambda x: 1 if x > 0 else 0)\n",
    "    df[\"MA5\"] = df[\"Close\"].rolling(window=5).mean()\n",
    "    df[\"MA20\"] = df[\"Close\"].rolling(window=20).mean()\n",
    "    df[\"Volatility\"] = (df[\"High\"] - df[\"Low\"]) / df[\"Low\"]\n",
    "    df.dropna(inplace=True)\n",
    "    return df"
   ]
  },
  {
   "cell_type": "code",
   "execution_count": null,
   "metadata": {},
   "outputs": [],
   "source": [
    "kospi_data = get_kospi_data(3 * 365)\n",
    "\n",
    "X = kospi_data[[\"MA5\", \"MA20\"]]\n",
    "y = kospi_data[\"Label\"]\n",
    "\n",
    "X_train, X_test, y_train, y_test = train_test_split(\n",
    "    X, y, test_size=0.2, random_state=42\n",
    ")\n",
    "\n",
    "model = RandomForestClassifier(n_estimators=100, random_state=42)\n",
    "model.fit(X_train, y_train)"
   ]
  },
  {
   "cell_type": "code",
   "execution_count": null,
   "metadata": {},
   "outputs": [],
   "source": [
    "X_train[\"prediction\"] = model.predict(X_train)\n",
    "X_test[\"prediction\"] = model.predict(X_test)\n",
    "X_train[\"target\"] = y_train\n",
    "X_test[\"target\"] = y_test"
   ]
  },
  {
   "cell_type": "code",
   "execution_count": null,
   "metadata": {},
   "outputs": [],
   "source": [
    "data_drift_report = Report(metrics=[DataDriftPreset()])\n",
    "data_drift_report.run(reference_data=X_train, current_data=X_test)\n",
    "data_drift_report"
   ]
  },
  {
   "cell_type": "code",
   "execution_count": null,
   "metadata": {},
   "outputs": [],
   "source": [
    "data_quality_report = Report(metrics=[DataQualityPreset()])\n",
    "data_quality_report.run(reference_data=X_train, current_data=X_test)\n",
    "data_quality_report"
   ]
  },
  {
   "cell_type": "code",
   "execution_count": null,
   "metadata": {},
   "outputs": [],
   "source": [
    "performance_report = Report(metrics=[ClassificationPreset()])\n",
    "performance_report.run(reference_data=X_train, current_data=X_test)\n",
    "performance_report"
   ]
  }
 ],
 "metadata": {
  "language_info": {
   "name": "python"
  }
 },
 "nbformat": 4,
 "nbformat_minor": 2
}
